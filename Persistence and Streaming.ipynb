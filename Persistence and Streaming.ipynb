{
 "cells": [
  {
   "cell_type": "markdown",
   "id": "b5789bc3-b1ae-42c7-94a8-2ef4f89946fc",
   "metadata": {},
   "source": [
    "# Lesson 4: Persistence and Streaming"
   ]
  },
  {
   "cell_type": "code",
   "execution_count": 1,
   "id": "f5762271-8736-4e94-9444-8c92bd0e8074",
   "metadata": {
    "height": 64
   },
   "outputs": [],
   "source": [
    "from dotenv import load_dotenv\n",
    "\n",
    "_ = load_dotenv()"
   ]
  },
  {
   "cell_type": "code",
   "execution_count": 4,
   "id": "d0168aee-bce9-4d60-b827-f86a88187e31",
   "metadata": {
    "height": 115
   },
   "outputs": [],
   "source": [
    "from langgraph.graph import StateGraph, END\n",
    "from typing import TypedDict, Annotated\n",
    "import operator\n",
    "from langchain_core.messages import AnyMessage, SystemMessage, HumanMessage, ToolMessage\n",
    "from langchain_openai import ChatOpenAI\n",
    "from langchain_ollama import ChatOllama\n",
    "from langchain_community.tools.tavily_search import TavilySearchResults"
   ]
  },
  {
   "cell_type": "code",
   "execution_count": 5,
   "id": "da06a64f-a2d5-4a66-8090-9ada0930c684",
   "metadata": {
    "height": 30
   },
   "outputs": [],
   "source": [
    "tool = TavilySearchResults(max_results=2)"
   ]
  },
  {
   "cell_type": "code",
   "execution_count": 6,
   "id": "2589c5b6-6cc2-4594-9a17-dccdcf676054",
   "metadata": {
    "height": 47
   },
   "outputs": [],
   "source": [
    "class AgentState(TypedDict):\n",
    "    messages: Annotated[list[AnyMessage], operator.add]"
   ]
  },
  {
   "cell_type": "code",
   "execution_count": 7,
   "id": "9c033522-d2fc-41ac-8e3c-5e35872bf88d",
   "metadata": {
    "height": 64
   },
   "outputs": [],
   "source": [
    "# Unable to run\n",
    "# from langgraph.checkpoint.sqlite import SqliteSaver\n",
    "# memory = SqliteSaver.from_conn_string(\":memory:\")\n",
    "\n",
    "from langgraph.checkpoint.memory import MemorySaver\n",
    "memory = MemorySaver()"
   ]
  },
  {
   "cell_type": "code",
   "execution_count": 8,
   "id": "a2ba84ec-c172-4de7-ac55-e3158a531b23",
   "metadata": {
    "height": 574
   },
   "outputs": [],
   "source": [
    "class Agent:\n",
    "    def __init__(self, model, tools, checkpointer, system=\"\"):\n",
    "        self.system = system\n",
    "        graph = StateGraph(AgentState)\n",
    "        graph.add_node(\"llm\", self.call_model)\n",
    "        graph.add_node(\"action\", self.take_action)\n",
    "        graph.add_conditional_edges(\"llm\", self.exists_action, {True: \"action\", False: END})\n",
    "        graph.add_edge(\"action\", \"llm\")\n",
    "        graph.set_entry_point(\"llm\")\n",
    "        self.graph = graph.compile(checkpointer=checkpointer)\n",
    "        self.tools = {t.name: t for t in tools}\n",
    "        self.model = model.bind_tools(tools)\n",
    "\n",
    "    def call_model(self, state: AgentState):\n",
    "        messages = state['messages']\n",
    "        if self.system:\n",
    "            messages = [SystemMessage(content=self.system)] + messages\n",
    "        message = self.model.invoke(messages)\n",
    "        return {'messages': [message]}\n",
    "\n",
    "    def exists_action(self, state: AgentState):\n",
    "        result = state['messages'][-1]\n",
    "        return len(result.tool_calls) > 0\n",
    "\n",
    "    def take_action(self, state: AgentState):\n",
    "        tool_calls = state['messages'][-1].tool_calls\n",
    "        results = []\n",
    "        for t in tool_calls:\n",
    "            print(f\"Calling: {t}\")\n",
    "            result = self.tools[t['name']].invoke(t['args'])\n",
    "            results.append(ToolMessage(tool_call_id=t['id'], name=t['name'], content=str(result)))\n",
    "        print(\"Back to the model!\")\n",
    "        return {'messages': results}"
   ]
  },
  {
   "cell_type": "code",
   "execution_count": 9,
   "id": "876d5092-b8ef-4e38-b4d7-0e80c609bf7a",
   "metadata": {
    "height": 132
   },
   "outputs": [],
   "source": [
    "prompt = \"\"\"You are a smart research assistant. Use the search engine to look up information. \\\n",
    "You are allowed to make multiple calls (either together or in sequence). \\\n",
    "Only look up information when you are sure of what you want. \\\n",
    "If you need to look up some information before asking a follow up question, you are allowed to do that!\n",
    "\"\"\"\n",
    "# model = ChatOpenAI(model=\"gpt-4o\")\n",
    "\n",
    "model = ChatOllama(model = \"qwen2.5:7b\")\n",
    "abot = Agent(model, [tool], system=prompt, checkpointer=memory)"
   ]
  },
  {
   "cell_type": "code",
   "execution_count": 61,
   "id": "10084a02-2928-4945-9f7c-ad3f5b33caf7",
   "metadata": {
    "height": 30
   },
   "outputs": [],
   "source": [
    "messages = [HumanMessage(content=\"What is the weather in Penang?\")]"
   ]
  },
  {
   "cell_type": "code",
   "execution_count": 62,
   "id": "714d1205-f8fc-4912-b148-2a45da99219c",
   "metadata": {
    "height": 30
   },
   "outputs": [],
   "source": [
    "thread = {\"configurable\": {\"thread_id\": \"1\"}}"
   ]
  },
  {
   "cell_type": "code",
   "execution_count": 63,
   "id": "83588e70-254f-4f83-a510-c8ae81e729b0",
   "metadata": {
    "height": 64
   },
   "outputs": [
    {
     "name": "stdout",
     "output_type": "stream",
     "text": [
      "[AIMessage(content='', additional_kwargs={}, response_metadata={'model': 'qwen2.5:7b', 'created_at': '2025-01-26T04:32:01.6283097Z', 'message': {'role': 'assistant', 'content': '', 'tool_calls': [{'function': {'name': 'tavily_search_results_json', 'arguments': {'query': 'weather in Penang'}}}]}, 'done_reason': 'stop', 'done': True, 'total_duration': 1349569300, 'load_duration': 36663200, 'prompt_eval_count': 244, 'prompt_eval_duration': 156000000, 'eval_count': 27, 'eval_duration': 1145000000}, id='run-7d050fb5-2572-481c-b9b9-ae14c3b0f238-0', tool_calls=[{'name': 'tavily_search_results_json', 'args': {'query': 'weather in Penang'}, 'id': '75781c9d-bd02-405a-b51b-f150705190c0', 'type': 'tool_call'}], usage_metadata={'input_tokens': 244, 'output_tokens': 27, 'total_tokens': 271})]\n",
      "\n",
      "Calling: {'name': 'tavily_search_results_json', 'args': {'query': 'weather in Penang'}, 'id': '75781c9d-bd02-405a-b51b-f150705190c0', 'type': 'tool_call'}\n",
      "Back to the model!\n",
      "[ToolMessage(content='[{\\'url\\': \\'https://www.weatherapi.com/\\', \\'content\\': \"{\\'location\\': {\\'name\\': \\'Penang\\', \\'region\\': \\'Pulau Pinang\\', \\'country\\': \\'Malaysia\\', \\'lat\\': 5.4167, \\'lon\\': 100.3333, \\'tz_id\\': \\'Asia/Kuala_Lumpur\\', \\'localtime_epoch\\': 1737865709, \\'localtime\\': \\'2025-01-26 12:28\\'}, \\'current\\': {\\'last_updated_epoch\\': 1737864900, \\'last_updated\\': \\'2025-01-26 12:15\\', \\'temp_c\\': 31.1, \\'temp_f\\': 88.0, \\'is_day\\': 1, \\'condition\\': {\\'text\\': \\'Partly cloudy\\', \\'icon\\': \\'//cdn.weatherapi.com/weather/64x64/day/116.png\\', \\'code\\': 1003}, \\'wind_mph\\': 2.9, \\'wind_kph\\': 4.7, \\'wind_degree\\': 155, \\'wind_dir\\': \\'SSE\\', \\'pressure_mb\\': 1010.0, \\'pressure_in\\': 29.83, \\'precip_mm\\': 0.83, \\'precip_in\\': 0.03, \\'humidity\\': 71, \\'cloud\\': 25, \\'feelslike_c\\': 39.3, \\'feelslike_f\\': 102.8, \\'windchill_c\\': 28.1, \\'windchill_f\\': 82.6, \\'heatindex_c\\': 32.0, \\'heatindex_f\\': 89.6, \\'dewpoint_c\\': 23.5, \\'dewpoint_f\\': 74.3, \\'vis_km\\': 8.0, \\'vis_miles\\': 4.0, \\'uv\\': 10.6, \\'gust_mph\\': 3.6, \\'gust_kph\\': 5.8}}\"}, {\\'url\\': \\'https://www.weather2travel.com/malaysia/penang/forecast/\\', \\'content\\': \\'Penang weather for Sunday 26th January 2025. Expect isolated thunderstorms in Penang, Malaysia with a maximum temperature of 30°C, moderate levels of heat & humidity, maximum UV of 11 (Extreme) and 5 hours of bright sunshine. There are 10-20 mm of rainfall expected with 79% chance of some rain and a light breeze of 8 kph from the east.\\'}]', name='tavily_search_results_json', tool_call_id='75781c9d-bd02-405a-b51b-f150705190c0')]\n",
      "\n",
      "[AIMessage(content=\"The current weather in Penang, Malaysia is partly cloudy with a temperature of 31.1°C (88°F). The wind speed is at 2.9 mph (4.7 km/h) coming from SSE. The pressure is recorded at 1010 mb or 29.83 inches of mercury. There's also a chance of isolated thunderstorms with around 5 hours of bright sunshine, and an expected rainfall of about 10-20 mm.\\n\\nThe forecast suggests that the maximum temperature will be 30°C (86°F) on Sunday, January 26th, 2025. Heat levels and humidity are moderate. The UV index is predicted to reach extreme levels at a maximum of 11, and there's a 79% chance of some rain during the day. Wind will be light, blowing from the east at around 8 kph (5 mph).\", additional_kwargs={}, response_metadata={'model': 'qwen2.5:7b', 'created_at': '2025-01-26T04:32:11.7226771Z', 'message': {'role': 'assistant', 'content': \"The current weather in Penang, Malaysia is partly cloudy with a temperature of 31.1°C (88°F). The wind speed is at 2.9 mph (4.7 km/h) coming from SSE. The pressure is recorded at 1010 mb or 29.83 inches of mercury. There's also a chance of isolated thunderstorms with around 5 hours of bright sunshine, and an expected rainfall of about 10-20 mm.\\n\\nThe forecast suggests that the maximum temperature will be 30°C (86°F) on Sunday, January 26th, 2025. Heat levels and humidity are moderate. The UV index is predicted to reach extreme levels at a maximum of 11, and there's a 79% chance of some rain during the day. Wind will be light, blowing from the east at around 8 kph (5 mph).\"}, 'done_reason': 'stop', 'done': True, 'total_duration': 6132325100, 'load_duration': 47319500, 'prompt_eval_count': 876, 'prompt_eval_duration': 765000000, 'eval_count': 194, 'eval_duration': 5288000000}, id='run-1af9da5f-a269-45c0-bdbc-e0ad48ddc5c0-0', usage_metadata={'input_tokens': 876, 'output_tokens': 194, 'total_tokens': 1070})]\n",
      "\n"
     ]
    }
   ],
   "source": [
    "for event in abot.graph.stream({\"messages\": messages}, thread):\n",
    "    for v in event.values():\n",
    "        print(v['messages'])\n",
    "        print()"
   ]
  },
  {
   "cell_type": "code",
   "execution_count": 64,
   "id": "6cb3ef4c-58b3-401b-b104-0d51e553d982",
   "metadata": {
    "height": 98
   },
   "outputs": [
    {
     "name": "stdout",
     "output_type": "stream",
     "text": [
      "content='' additional_kwargs={} response_metadata={'model': 'qwen2.5:7b', 'created_at': '2025-01-26T04:32:23.6735795Z', 'message': {'role': 'assistant', 'content': '', 'tool_calls': [{'function': {'name': 'tavily_search_results_json', 'arguments': {'query': 'weather in Kuala Lumpur'}}}]}, 'done_reason': 'stop', 'done': True, 'total_duration': 1163833300, 'load_duration': 48326300, 'prompt_eval_count': 1085, 'prompt_eval_duration': 58000000, 'eval_count': 26, 'eval_duration': 1004000000} id='run-17d5e08c-223e-4f7f-b437-056e9e5933c1-0' tool_calls=[{'name': 'tavily_search_results_json', 'args': {'query': 'weather in Kuala Lumpur'}, 'id': 'e6ed0493-0af2-4122-954b-92bb15dd2ee9', 'type': 'tool_call'}] usage_metadata={'input_tokens': 1085, 'output_tokens': 26, 'total_tokens': 1111}\n",
      "\n",
      "Calling: {'name': 'tavily_search_results_json', 'args': {'query': 'weather in Kuala Lumpur'}, 'id': 'e6ed0493-0af2-4122-954b-92bb15dd2ee9', 'type': 'tool_call'}\n",
      "Back to the model!\n",
      "content='[{\\'url\\': \\'https://www.weatherapi.com/\\', \\'content\\': \"{\\'location\\': {\\'name\\': \\'Kuala Lumpur\\', \\'region\\': \\'Kuala Lumpur\\', \\'country\\': \\'Malaysia\\', \\'lat\\': 3.1667, \\'lon\\': 101.7, \\'tz_id\\': \\'Asia/Kuala_Lumpur\\', \\'localtime_epoch\\': 1737865731, \\'localtime\\': \\'2025-01-26 12:28\\'}, \\'current\\': {\\'last_updated_epoch\\': 1737864900, \\'last_updated\\': \\'2025-01-26 12:15\\', \\'temp_c\\': 27.4, \\'temp_f\\': 81.3, \\'is_day\\': 1, \\'condition\\': {\\'text\\': \\'Partly cloudy\\', \\'icon\\': \\'//cdn.weatherapi.com/weather/64x64/day/116.png\\', \\'code\\': 1003}, \\'wind_mph\\': 2.2, \\'wind_kph\\': 3.6, \\'wind_degree\\': 82, \\'wind_dir\\': \\'E\\', \\'pressure_mb\\': 1011.0, \\'pressure_in\\': 29.85, \\'precip_mm\\': 2.43, \\'precip_in\\': 0.1, \\'humidity\\': 79, \\'cloud\\': 25, \\'feelslike_c\\': 30.9, \\'feelslike_f\\': 87.5, \\'windchill_c\\': 28.5, \\'windchill_f\\': 83.2, \\'heatindex_c\\': 33.1, \\'heatindex_f\\': 91.5, \\'dewpoint_c\\': 24.3, \\'dewpoint_f\\': 75.8, \\'vis_km\\': 10.0, \\'vis_miles\\': 6.0, \\'uv\\': 10.2, \\'gust_mph\\': 6.7, \\'gust_kph\\': 10.8}}\"}, {\\'url\\': \\'https://world-weather.info/forecast/malaysia/kuala_lumpur/january-2025/\\', \\'content\\': \"Weather in Kuala Lumpur in January 2025 (Wilayah Persekutuan Kuala Lumpur) - Detailed Weather Forecast for a Month Weather World Weather in Kuala Lumpur Weather in Kuala Lumpur in January 2025 Kuala Lumpur Weather Forecast for January 2025, is based on previous years\\' statistical data. +91°+79° +90°+79° +88°+79° +91°+81° +91°+81° +90°+81° +91°+81° +91°+81° +91°+81° +91°+81° +90°+81° +90°+81° +90°+81° +91°+79° +90°+81° +90°+81° +90°+81° +90°+81° +91°+81° +90°+79° +90°+79° +90°+79° +91°+81° +91°+81° +90°+81° +91°+81° +91°+81° +91°+81° +90°+79° +90°+79° +90°+81° Extended weather forecast in Kuala Lumpur HourlyWeek10 days14 days30 daysYear Weather in large and nearby cities Petaling Jaya+81° Kuala Selangor+79° Seremban+77° Port Dickson+79° Mentekab+79° Temerluh+79° Kelebang Besar+81° Teluk Intan+75° Melaka+81° Bentong Town+79° Banting+79° Shah Alam+81° Rawang+81° Putrajaya+81° Semenyih+81° Klang+81° world\\'s temperature today day day\"}]' name='tavily_search_results_json' tool_call_id='e6ed0493-0af2-4122-954b-92bb15dd2ee9'\n",
      "\n",
      "content='The current weather in Kuala Lumpur is partly cloudy with a temperature of 27.4°C (81.3°F). The wind speed is measured at 2.2 mph (3.6 kph) coming from the east (E), and the humidity is 79%. The air feels slightly warmer than the actual temperature due to the high humidity, with a \"feels like\" temperature of 30.9°C (87.5°F).\\n\\nFor the upcoming days in January 2025, the forecast indicates generally warm conditions ranging from +91°C (+79°F) to +90°C (+81°F), although this appears to be an anomaly as it seems to refer to previous year\\'s data rather than a reliable prediction. Typically, Kuala Lumpur experiences high temperatures during January with clear skies and occasional showers.\\n\\nTo provide more accurate and detailed forecasts for specific dates in January 2025, you may want to check local weather services or websites that offer up-to-date and precise weather predictions.' additional_kwargs={} response_metadata={'model': 'qwen2.5:7b', 'created_at': '2025-01-26T04:32:37.224675Z', 'message': {'role': 'assistant', 'content': 'The current weather in Kuala Lumpur is partly cloudy with a temperature of 27.4°C (81.3°F). The wind speed is measured at 2.2 mph (3.6 kph) coming from the east (E), and the humidity is 79%. The air feels slightly warmer than the actual temperature due to the high humidity, with a \"feels like\" temperature of 30.9°C (87.5°F).\\n\\nFor the upcoming days in January 2025, the forecast indicates generally warm conditions ranging from +91°C (+79°F) to +90°C (+81°F), although this appears to be an anomaly as it seems to refer to previous year\\'s data rather than a reliable prediction. Typically, Kuala Lumpur experiences high temperatures during January with clear skies and occasional showers.\\n\\nTo provide more accurate and detailed forecasts for specific dates in January 2025, you may want to check local weather services or websites that offer up-to-date and precise weather predictions.'}, 'done_reason': 'stop', 'done': True, 'total_duration': 7454506600, 'load_duration': 46393300, 'prompt_eval_count': 2044, 'prompt_eval_duration': 2010000000, 'eval_count': 213, 'eval_duration': 5328000000} id='run-8f0b71f7-29c7-49fa-bedc-64cd2a30b295-0' usage_metadata={'input_tokens': 2044, 'output_tokens': 213, 'total_tokens': 2257}\n",
      "\n"
     ]
    }
   ],
   "source": [
    "messages = [HumanMessage(content=\"What about in Kuala Lumpur?\")]\n",
    "thread = {\"configurable\": {\"thread_id\": \"1\"}}\n",
    "for event in abot.graph.stream({\"messages\": messages}, thread):\n",
    "    for v in event.values():\n",
    "        print(v['messages'][0])\n",
    "        print()"
   ]
  },
  {
   "cell_type": "code",
   "execution_count": 65,
   "id": "dc3293b7-a50c-43c8-a022-8975e1e444b8",
   "metadata": {
    "height": 98
   },
   "outputs": [
    {
     "name": "stdout",
     "output_type": "stream",
     "text": [
      "Based on the current weather information, Kuala Lumpur is warmer with a temperature of 27.4°C (81.3°F) compared to Penang, which had a maximum temperature forecasted for Sunday, January 26th, 2025, at 30°C (86°F).\n",
      "\n",
      "Therefore, Penang is expected to be slightly warmer than Kuala Lumpur on that specific day.\n"
     ]
    }
   ],
   "source": [
    "messages = [HumanMessage(content=\"Which one is warmer?\")]\n",
    "thread = {\"configurable\": {\"thread_id\": \"1\"}}\n",
    "for event in abot.graph.stream({\"messages\": messages}, thread):\n",
    "    for v in event.values():\n",
    "        print(v['messages'][0].content)"
   ]
  },
  {
   "cell_type": "code",
   "execution_count": 66,
   "id": "0722c3d4-4cbf-43bf-81b0-50f634c4ce61",
   "metadata": {
    "height": 98
   },
   "outputs": [
    {
     "name": "stdout",
     "output_type": "stream",
     "text": [
      "{'messages': [AIMessage(content=\"I'm sorry, I need more information to determine which one you're referring to. Could you please specify the two objects or phenomena you would like to compare in terms of temperature?\", additional_kwargs={}, response_metadata={'model': 'qwen2.5:7b', 'created_at': '2025-01-26T04:35:16.560995Z', 'message': {'role': 'assistant', 'content': \"I'm sorry, I need more information to determine which one you're referring to. Could you please specify the two objects or phenomena you would like to compare in terms of temperature?\"}, 'done_reason': 'stop', 'done': True, 'total_duration': 1491044000, 'load_duration': 35242500, 'prompt_eval_count': 241, 'prompt_eval_duration': 126000000, 'eval_count': 37, 'eval_duration': 1324000000}, id='run-5bda94ee-4802-44f7-82f0-358a7d3f740f-0', usage_metadata={'input_tokens': 241, 'output_tokens': 37, 'total_tokens': 278})]}\n"
     ]
    }
   ],
   "source": [
    "messages = [HumanMessage(content=\"Which one is warmer?\")]\n",
    "thread = {\"configurable\": {\"thread_id\": \"2\"}}\n",
    "for event in abot.graph.stream({\"messages\": messages}, thread):\n",
    "    for v in event.values():\n",
    "        print(v)"
   ]
  },
  {
   "cell_type": "markdown",
   "id": "ace59a36-3941-459e-b9d1-ac5a4a1ed3ae",
   "metadata": {},
   "source": [
    "## Streaming tokens"
   ]
  },
  {
   "cell_type": "code",
   "execution_count": 10,
   "id": "6b2f82fe-3ec4-4917-be51-9fb10d1317fa",
   "metadata": {
    "height": 81
   },
   "outputs": [],
   "source": [
    "from langgraph.checkpoint.sqlite.aio import AsyncSqliteSaver\n",
    "\n",
    "memory = AsyncSqliteSaver.from_conn_string(\":memory:\")\n",
    "abot = Agent(model, [tool], system=prompt, checkpointer=memory)"
   ]
  },
  {
   "cell_type": "code",
   "execution_count": 11,
   "id": "ee0fe1c7-77e2-499c-a2f9-1f739bb6ddf0",
   "metadata": {
    "height": 200
   },
   "outputs": [
    {
     "name": "stdout",
     "output_type": "stream",
     "text": [
      "Calling: {'name': 'tavily_search_results_json', 'args': {'query': 'weather in San Francisco'}, 'id': '106d70bd-06ee-4839-a9eb-8b9511a68fad', 'type': 'tool_call'}\n",
      "Back to the model!\n",
      "The current weather in San Francisco is as follows:\n",
      "- Temperature: 9.4°C (48.9°F)\n",
      "- Condition: Light rain\n",
      "- Wind speed: 9.6 mph\n",
      "- Humidity: 71%\n",
      "\n",
      "It was last updated at 21:00 UTC on the same day. The visibility is 16 km, and there's no precipitation currently recorded.\n",
      "\n",
      "For further detailed information or hourly and daily forecasts, you can visit [WeatherAPI](https://www.weatherapi.com/).|"
     ]
    }
   ],
   "source": [
    "import asyncio\n",
    "from contextlib import AsyncExitStack\n",
    "from langgraph.checkpoint.sqlite.aio import AsyncSqliteSaver\n",
    "\n",
    "stack = AsyncExitStack()\n",
    "memory = await stack.enter_async_context(AsyncSqliteSaver.from_conn_string(\":memory:\"))\n",
    "\n",
    "abot = Agent(model, [tool], system=prompt, checkpointer=memory)\n",
    "\n",
    "messages = [HumanMessage(content=\"What is the weather in SF?\")]\n",
    "thread = {\"configurable\": {\"thread_id\": \"4\"}}\n",
    "async for event in abot.graph.astream_events({\"messages\": messages}, thread, version=\"v1\"):\n",
    "        kind = event[\"event\"]\n",
    "        if kind == \"on_chat_model_stream\":\n",
    "            content = event[\"data\"][\"chunk\"].content\n",
    "            if content:\n",
    "                # Empty content in the context of OpenAI means\n",
    "                # that the model is asking for a tool to be invoked.\n",
    "                # So we only print non-empty content\n",
    "                print(content, end=\"|\")\n",
    "\n",
    "await stack.aclose()"
   ]
  }
 ],
 "metadata": {
  "kernelspec": {
   "display_name": "Python 3",
   "language": "python",
   "name": "python3"
  },
  "language_info": {
   "codemirror_mode": {
    "name": "ipython",
    "version": 3
   },
   "file_extension": ".py",
   "mimetype": "text/x-python",
   "name": "python",
   "nbconvert_exporter": "python",
   "pygments_lexer": "ipython3",
   "version": "3.11.9"
  }
 },
 "nbformat": 4,
 "nbformat_minor": 5
}
