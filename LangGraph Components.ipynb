{
 "cells": [
  {
   "cell_type": "markdown",
   "id": "21fa2e13-567d-4509-9023-c99fb230f31f",
   "metadata": {},
   "source": [
    "# LangGraph Components"
   ]
  },
  {
   "cell_type": "code",
   "execution_count": 17,
   "id": "d0168aee-bce9-4d60-b827-f86a88187e31",
   "metadata": {
    "height": 132
   },
   "outputs": [],
   "source": [
    "from langgraph.graph import StateGraph, END\n",
    "from typing import TypedDict, Annotated\n",
    "import operator\n",
    "from langchain_core.messages import AnyMessage, SystemMessage, HumanMessage, ToolMessage\n",
    "from langchain_openai import ChatOpenAI\n",
    "from langchain_ollama import ChatOllama\n",
    "from langchain_community.tools.tavily_search import TavilySearchResults"
   ]
  },
  {
   "cell_type": "code",
   "execution_count": 18,
   "id": "2589c5b6-6cc2-4594-9a17-dccdcf676054",
   "metadata": {
    "height": 64
   },
   "outputs": [
    {
     "name": "stdout",
     "output_type": "stream",
     "text": [
      "<class 'langchain_community.tools.tavily_search.tool.TavilySearchResults'>\n",
      "tavily_search_results_json\n"
     ]
    }
   ],
   "source": [
    "import os\n",
    "os.environ[\"TAVILY_API_KEY\"] = \"None\"\n",
    "tool = TavilySearchResults(max_results=4) #increased number of results\n",
    "print(type(tool))\n",
    "print(tool.name)"
   ]
  },
  {
   "cell_type": "markdown",
   "id": "e196c186-af55-4f2d-b569-b7d63a859304",
   "metadata": {},
   "source": [
    "> If you are not familiar with python typing annotation, you can refer to the [python documents](https://docs.python.org/3/library/typing.html)."
   ]
  },
  {
   "cell_type": "code",
   "execution_count": 19,
   "id": "a2ba84ec-c172-4de7-ac55-e3158a531b23",
   "metadata": {
    "height": 47
   },
   "outputs": [],
   "source": [
    "class AgentState(TypedDict):\n",
    "    messages: Annotated[list[AnyMessage], operator.add]"
   ]
  },
  {
   "cell_type": "markdown",
   "id": "74c7ba73-e603-453b-b06f-5db92c567b19",
   "metadata": {},
   "source": [
    "> Note: in `take_action` below, some logic was added to cover the case that the LLM returned a non-existent tool name. Even with function calling, LLMs can still occasionally hallucinate. Note that all that is done is instructing the LLM to try again! An advantage of an agentic organization."
   ]
  },
  {
   "cell_type": "code",
   "execution_count": 20,
   "id": "876d5092-b8ef-4e38-b4d7-0e80c609bf7a",
   "metadata": {
    "height": 744
   },
   "outputs": [],
   "source": [
    "class Agent:\n",
    "\n",
    "    def __init__(self, model, tools, system=\"\"):\n",
    "        self.system = system\n",
    "        graph = StateGraph(AgentState)\n",
    "        graph.add_node(\"llm\", self.call_model)\n",
    "        graph.add_node(\"action\", self.take_action)\n",
    "        graph.add_conditional_edges(\n",
    "            \"llm\",\n",
    "            self.exists_action,\n",
    "            {True: \"action\", False: END}\n",
    "        )\n",
    "        graph.add_edge(\"action\", \"llm\")\n",
    "        graph.set_entry_point(\"llm\")\n",
    "        self.graph = graph.compile()\n",
    "        self.tools = {t.name: t for t in tools}\n",
    "        self.model = model.bind_tools(tools)\n",
    "\n",
    "    def exists_action(self, state: AgentState):\n",
    "        result = state['messages'][-1]\n",
    "        return len(result.tool_calls) > 0\n",
    "\n",
    "    def call_model(self, state: AgentState):\n",
    "        messages = state['messages']\n",
    "        if self.system:\n",
    "            messages = [SystemMessage(content=self.system)] + messages\n",
    "        message = self.model.invoke(messages)\n",
    "        return {'messages': [message]}\n",
    "\n",
    "    def take_action(self, state: AgentState):\n",
    "        tool_calls = state['messages'][-1].tool_calls\n",
    "        results = []\n",
    "        for t in tool_calls:\n",
    "            print(f\"Calling: {t}\")\n",
    "            if not t['name'] in self.tools:      # check for bad tool name from LLM\n",
    "                print(\"\\n ....bad tool name....\")\n",
    "                result = \"bad tool name, retry\"  # instruct LLM to retry if bad\n",
    "            else:\n",
    "                result = self.tools[t['name']].invoke(t['args'])\n",
    "            results.append(ToolMessage(tool_call_id=t['id'], name=t['name'], content=str(result)))\n",
    "        print(\"Back to the model!\")\n",
    "        return {'messages': results}"
   ]
  },
  {
   "cell_type": "code",
   "execution_count": 21,
   "id": "10084a02-2928-4945-9f7c-ad3f5b33caf7",
   "metadata": {
    "height": 166
   },
   "outputs": [],
   "source": [
    "prompt = \"\"\"You are a smart research assistant. Use the search engine to look up information. \\\n",
    "You are allowed to make multiple calls (either together or in sequence). \\\n",
    "Only look up information when you are sure of what you want. \\\n",
    "If you need to look up some information before asking a follow up question, you are allowed to do that!\n",
    "\"\"\"\n",
    "\n",
    "# model = ChatOpenAI(model=\"gpt-3.5-turbo\")  #reduce inference cost\n",
    "model = ChatOllama(model = \"qwen2.5:7b\")\n",
    "abot = Agent(model, [tool], system=prompt)"
   ]
  },
  {
   "cell_type": "code",
   "execution_count": 22,
   "id": "a3d6f5f4-2392-41b9-ab96-7919840baa3e",
   "metadata": {
    "height": 64
   },
   "outputs": [
    {
     "data": {
      "image/png": "[encoded data removed]",
      "text/plain": [
       "<IPython.core.display.Image object>"
      ]
     },
     "metadata": {},
     "output_type": "display_data"
    }
   ],
   "source": [
    "from IPython.display import Image, display\n",
    "try:\n",
    "  display(Image(abot.graph.get_graph().draw_mermaid_png()))\n",
    "except Exception:\n",
    "  pass"
   ]
  },
  {
   "cell_type": "code",
   "execution_count": 23,
   "id": "83588e70-254f-4f83-a510-c8ae81e729b0",
   "metadata": {
    "height": 47
   },
   "outputs": [
    {
     "name": "stdout",
     "output_type": "stream",
     "text": [
      "Calling: {'name': 'tavily_search_results_json', 'args': {'query': 'Maybank stock price'}, 'id': '8a00e730-96ac-481d-9854-eab83217c15d', 'type': 'tool_call'}\n",
      "Back to the model!\n"
     ]
    }
   ],
   "source": [
    "messages = [HumanMessage(content=\"What is the stock price of Maybank\")]\n",
    "result = abot.graph.invoke({\"messages\": messages})"
   ]
  },
  {
   "cell_type": "code",
   "execution_count": 24,
   "id": "89a06a8c-fcd4-4ca6-98f0-36c5809813e6",
   "metadata": {
    "height": 30,
    "scrolled": true
   },
   "outputs": [
    {
     "data": {
      "text/plain": [
       "{'messages': [HumanMessage(content='What is the stock price of Maybank', additional_kwargs={}, response_metadata={}),\n",
       "  AIMessage(content='', additional_kwargs={}, response_metadata={'model': 'qwen2.5:7b', 'created_at': '2025-01-25T14:07:33.521024Z', 'message': {'role': 'assistant', 'content': '', 'tool_calls': [{'function': {'name': 'tavily_search_results_json', 'arguments': {'query': 'Maybank stock price'}}}]}, 'done_reason': 'stop', 'done': True, 'total_duration': 1279856300, 'load_duration': 69014000, 'prompt_eval_count': 244, 'prompt_eval_duration': 11000000, 'eval_count': 27, 'eval_duration': 1190000000}, id='run-dd9ddd92-dcb3-4c62-8260-46386282cae0-0', tool_calls=[{'name': 'tavily_search_results_json', 'args': {'query': 'Maybank stock price'}, 'id': '8a00e730-96ac-481d-9854-eab83217c15d', 'type': 'tool_call'}], usage_metadata={'input_tokens': 244, 'output_tokens': 27, 'total_tokens': 271}),\n",
       "  ToolMessage(content='[{\\'url\\': \\'https://www.google.com/finance/quote/MAYBANK:KLSE\\', \\'content\\': \"Malayan Banking Bhd (MAYBANK) Stock Price & News - Google Finance Net cash used or generated in investing activities such as purchasing assets Net cash used or generated in financing activities such as dividend payments and loans A valuation method that multiplies the price of a company\\'s stock by the total number of outstanding shares. PBBANK Public Bank Bhd RM 4.46 0.67% RHBBANK RHB Bank Bhd RM 6.30 1.56% BIMB Bank Islam Malaysia Bhd RM 2.48 1.22% AXIATA Axiata Group Bhd RM 2.34 2.90% HLIND Hong Leong Industries Bhd RM 14.26 0.97% CIMB CIMB Group Holdings Bhd RM 7.95 1.12% BURSA Bursa Malaysia Bhd RM 8.79 0.11% HLBANK Hong Leong Bank Bhd RM 20.00 0.30%\"}, {\\'url\\': \\'https://www.tradingview.com/symbols/MYX-MAYBANK/\\', \\'content\\': \"Watch MALAYAN BANKING BHD stock price performance more closely on the chart. For instance, on MYX exchange MALAYAN BANKING BHD stocks are traded under the ticker MAYBANK. Watch MAYBANK chart and read a more detailed MALAYAN BANKING BHD stock forecast: see what analysts think of MALAYAN BANKING BHD and suggest that you do with its stocks. You can trade MALAYAN BANKING BHD stock right from TradingView charts — choose your broker and connect to your account. Since market conditions are prone to changes, it\\'s worth looking a bit further into the future — according to the 1 month rating MALAYAN BANKING BHD stock shows the strong buy signal.\"}, {\\'url\\': \\'https://klse.i3investor.com/web/stock/overview/1155\\', \\'content\\': \"MAYBANK (1155) Overview - MALAYAN BANKING BHD | I3investor The only loser among bank stocks Due to dividend tax over RM100K, now corporate plan to readjustment the share price to market value instead of paying dividend Local institutions’ interest focused on Tenaga Nasional, Maybank, CIMB, AMMB, and RHB Bank, which were the top stocks to record weekly net inflows last week. Singapore\\'s largest banking group, DBS Group Holdings Ltd has a market cap of over RM400 billion, more than three times larger than Maybank. 2024 was Best Year for Banks investors, let\\'s hope the market will continue to do well so that EPF & ASM will continue to give Good Dividend. https://www.thestar.com.my/business/business-news/2025/01/02/maybank-launches-money-lock-a-market-first-feature-to-protect-funds-from-online-scams \"}, {\\'url\\': \\'https://sg.finance.yahoo.com/quote/1155.KL/\\', \\'content\\': \\'Malayan Banking Berhad (1155.KL) stock price, news, quote and history - Yahoo Finance Malayan Banking Berhad (1155.KL) Further, the company underwrites general and life insurance businesses, offshore investment life insurance business, and general and family takaful products; and offers offshore banking, bureau, property leasing and trading, nominee, property investment, business/economic consultancy and advisory, IT shared and development, financial and investment advisory, money lending, private equity investments, research, and leasing and factoring services. 1155.KL 1155.KL 1155.KL 1155.KL 1155.KL Malayan Banking Berhad 1295.KL Public Bank Berhad 1066.KL RHB Bank Berhad 2488.KL 5819.KL Hong Leong Bank Berhad 1171.KL 5185.KL 1295.KL Public Bank Berhad 3182.KL Genting Berhad 4715.KL Genting Malaysia Berhad 1066.KL RHB Bank Berhad 5819.KL Hong Leong Bank Berhad 1818.KL Bursa Malaysia Berhad\\'}]', name='tavily_search_results_json', tool_call_id='8a00e730-96ac-481d-9854-eab83217c15d'),\n",
       "  AIMessage(content=\"The stock price of Maybank (Malayan Banking Bhd) can be checked on financial platforms like Google Finance. According to the information available, as of the latest update, Maybank's stock is trading at RM 4.46.\\n\\nFor real-time updates and more detailed analysis, you might want to visit:\\n- [Google Finance](https://www.google.com/finance/quote/MAYBANK:KLSE)\\n- [TradingView](https://www.tradingview.com/symbols/MYX-MAYBANK/)\\n- [I3investor](https://klse.i3investor.com/web/stock/overview/1155) \\n\\nThese platforms offer current stock prices, charts, news, and detailed financial information.\", additional_kwargs={}, response_metadata={'model': 'qwen2.5:7b', 'created_at': '2025-01-25T14:07:45.5068214Z', 'message': {'role': 'assistant', 'content': \"The stock price of Maybank (Malayan Banking Bhd) can be checked on financial platforms like Google Finance. According to the information available, as of the latest update, Maybank's stock is trading at RM 4.46.\\n\\nFor real-time updates and more detailed analysis, you might want to visit:\\n- [Google Finance](https://www.google.com/finance/quote/MAYBANK:KLSE)\\n- [TradingView](https://www.tradingview.com/symbols/MYX-MAYBANK/)\\n- [I3investor](https://klse.i3investor.com/web/stock/overview/1155) \\n\\nThese platforms offer current stock prices, charts, news, and detailed financial information.\"}, 'done_reason': 'stop', 'done': True, 'total_duration': 7161331000, 'load_duration': 40676500, 'prompt_eval_count': 1263, 'prompt_eval_duration': 1039000000, 'eval_count': 153, 'eval_duration': 6028000000}, id='run-ca640007-0b37-4c95-a795-340cd05ac8b1-0', usage_metadata={'input_tokens': 1263, 'output_tokens': 153, 'total_tokens': 1416})]}"
      ]
     },
     "execution_count": 24,
     "metadata": {},
     "output_type": "execute_result"
    }
   ],
   "source": [
    "result"
   ]
  },
  {
   "cell_type": "code",
   "execution_count": 25,
   "id": "6cb3ef4c-58b3-401b-b104-0d51e553d982",
   "metadata": {
    "height": 30
   },
   "outputs": [
    {
     "name": "stdout",
     "output_type": "stream",
     "text": [
      "The stock price of Maybank (Malayan Banking Bhd) can be checked on financial platforms like Google Finance. According to the information available, as of the latest update, Maybank's stock is trading at RM 4.46.\n",
      "\n",
      "For real-time updates and more detailed analysis, you might want to visit:\n",
      "- [Google Finance](https://www.google.com/finance/quote/MAYBANK:KLSE)\n",
      "- [TradingView](https://www.tradingview.com/symbols/MYX-MAYBANK/)\n",
      "- [I3investor](https://klse.i3investor.com/web/stock/overview/1155) \n",
      "\n",
      "These platforms offer current stock prices, charts, news, and detailed financial information.\n"
     ]
    }
   ],
   "source": [
    "print(result['messages'][-1].content)"
   ]
  },
  {
   "cell_type": "code",
   "execution_count": 26,
   "id": "dc3293b7-a50c-43c8-a022-8975e1e444b8",
   "metadata": {
    "height": 47
   },
   "outputs": [
    {
     "name": "stdout",
     "output_type": "stream",
     "text": [
      "Calling: {'name': 'tavily_search_results_json', 'args': {'query': 'weather in San Francisco and Los Angeles'}, 'id': '17fb87c2-81bc-4031-bd4a-f3999c9c432d', 'type': 'tool_call'}\n",
      "Back to the model!\n"
     ]
    }
   ],
   "source": [
    "messages = [HumanMessage(content=\"What is the weather in SF and LA?\")]\n",
    "result = abot.graph.invoke({\"messages\": messages})"
   ]
  },
  {
   "cell_type": "code",
   "execution_count": 29,
   "id": "0722c3d4-4cbf-43bf-81b0-50f634c4ce61",
   "metadata": {
    "height": 30
   },
   "outputs": [
    {
     "name": "stdout",
     "output_type": "stream",
     "text": [
      "It seems there was a mix-up with the location in the search result. Let me clarify:\n",
      "\n",
      "- For Los Angeles: \n",
      "The current temperature is around 64.6°F (18.1°C) with partly cloudy skies.\n",
      "\n",
      "- For San Francisco:\n",
      "In January 2025, the average temperature is expected to be around 13°F (-10.5°C), and it will experience heavy rainfall with over 20 rainy days. The forecast for New Year's Day suggests temperatures in the low 40s to mid-50s Fahrenheit.\n",
      "\n",
      "The information provided might not be entirely accurate or up-to-date due to some discrepancies, so I recommend checking a reliable weather source for the most current conditions.\n"
     ]
    }
   ],
   "source": [
    "print(result['messages'][-1].content)"
   ]
  },
  {
   "cell_type": "code",
   "execution_count": null,
   "id": "6b2f82fe-3ec4-4917-be51-9fb10d1317fa",
   "metadata": {
    "height": 200
   },
   "outputs": [
    {
     "name": "stdout",
     "output_type": "stream",
     "text": [
      "Calling: {'name': 'tavily_search_results_json', 'args': {'query': '2024 Super Bowl winner'}, 'id': 'call_aIEeqWpIRudtjPoTuWpuM1T5', 'type': 'tool_call'}\n",
      "Back to the model!\n",
      "Calling: {'name': 'tavily_search_results_json', 'args': {'query': 'Kansas City Chiefs headquarters location'}, 'id': 'call_kj1qqb9j6AQYCLlUSor6zmSx', 'type': 'tool_call'}\n",
      "Back to the model!\n",
      "Calling: {'name': 'tavily_search_results_json', 'args': {'query': 'Missouri GDP 2024'}, 'id': 'call_rjTzc0R8PmoSAUAMMICld0sj', 'type': 'tool_call'}\n",
      "Back to the model!\n"
     ]
    }
   ],
   "source": [
    "# Note, the query was modified to produce more consistent results. \n",
    "# Results may vary per run and over time as search information and models change.\n",
    "\n",
    "query = \"Who won the super bowl in 2024? In what state is the winning team headquarters located? \\\n",
    "What is the GDP of that state? Answer each question.\" \n",
    "messages = [HumanMessage(content=query)]\n",
    "\n",
    "model = ChatOpenAI(model=\"gpt-4o\")  # requires more advanced model\n",
    "abot = Agent(model, [tool], system=prompt)\n",
    "result = abot.graph.invoke({\"messages\": messages})"
   ]
  },
  {
   "cell_type": "code",
   "execution_count": 34,
   "id": "ee0fe1c7-77e2-499c-a2f9-1f739bb6ddf0",
   "metadata": {
    "height": 30
   },
   "outputs": [
    {
     "name": "stdout",
     "output_type": "stream",
     "text": [
      "1. The Kansas City Chiefs won the Super Bowl in 2024.\n",
      "\n",
      "2. The headquarters of the Kansas City Chiefs is located in Kansas City, Missouri.\n",
      "\n",
      "3. The GDP of Missouri in 2024 was approximately $349 billion.\n"
     ]
    }
   ],
   "source": [
    "print(result['messages'][-1].content)"
   ]
  },
  {
   "cell_type": "code",
   "execution_count": null,
   "id": "1d643182-2802-40fb-ba35-d4f893c5b976",
   "metadata": {
    "height": 30
   },
   "outputs": [],
   "source": []
  }
 ],
 "metadata": {
  "kernelspec": {
   "display_name": "Python 3",
   "language": "python",
   "name": "python3"
  },
  "language_info": {
   "codemirror_mode": {
    "name": "ipython",
    "version": 3
   },
   "file_extension": ".py",
   "mimetype": "text/x-python",
   "name": "python",
   "nbconvert_exporter": "python",
   "pygments_lexer": "ipython3",
   "version": "3.11.9"
  }
 },
 "nbformat": 4,
 "nbformat_minor": 5
}
