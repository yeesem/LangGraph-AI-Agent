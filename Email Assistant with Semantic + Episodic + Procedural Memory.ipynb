{
 "cells": [
  {
   "cell_type": "code",
   "execution_count": 1,
   "metadata": {},
   "outputs": [],
   "source": [
    "import os\n",
    "from dotenv import load_dotenv\n",
    "_ = load_dotenv()"
   ]
  },
  {
   "cell_type": "code",
   "execution_count": 2,
   "metadata": {},
   "outputs": [],
   "source": [
    "profile = {\n",
    "    \"name\": \"John\",\n",
    "    \"full_name\": \"John Doe\",\n",
    "    \"user_profile_background\": \"Senior software engineer leading a team of 5 developers\",\n",
    "}"
   ]
  },
  {
   "cell_type": "code",
   "execution_count": 3,
   "metadata": {},
   "outputs": [],
   "source": [
    "prompt_instructions = {\n",
    "    \"triage_rules\": {\n",
    "        \"ignore\": \"Marketing newsletters, spam emails, mass company announcements\",\n",
    "        \"notify\": \"Team member out sick, build system notifications, project status updates\",\n",
    "        \"respond\": \"Direct questions from team members, meeting requests, critical bug reports\",\n",
    "    },\n",
    "    \"agent_instructions\": \"Use these tools when appropriate to help manage John's tasks efficiently.\"\n",
    "}"
   ]
  },
  {
   "cell_type": "code",
   "execution_count": 4,
   "metadata": {},
   "outputs": [],
   "source": [
    "email = {\n",
    "    \"from\": \"Alice Smith <alice.smith@company.com>\",\n",
    "    \"to\": \"John Doe <john.doe@company.com>\",\n",
    "    \"subject\": \"Quick question about API documentation\",\n",
    "    \"body\": \"\"\"\n",
    "Hi John,\n",
    "\n",
    "I was reviewing the API documentation for the new authentication service and noticed a few endpoints seem to be missing from the specs. Could you help clarify if this was intentional or if we should update the docs?\n",
    "\n",
    "Specifically, I'm looking at:\n",
    "- /auth/refresh\n",
    "- /auth/validate\n",
    "\n",
    "Thanks!\n",
    "Alice\"\"\",\n",
    "}"
   ]
  },
  {
   "cell_type": "code",
   "execution_count": 5,
   "metadata": {},
   "outputs": [],
   "source": [
    "from langgraph.store.memory import InMemoryStore\n",
    "from langchain.embeddings import OllamaEmbeddings"
   ]
  },
  {
   "cell_type": "code",
   "execution_count": 6,
   "metadata": {},
   "outputs": [
    {
     "name": "stderr",
     "output_type": "stream",
     "text": [
      "C:\\Users\\OON YEE SEM\\AppData\\Local\\Temp\\ipykernel_10676\\2393663768.py:1: LangChainDeprecationWarning: The class `OllamaEmbeddings` was deprecated in LangChain 0.3.1 and will be removed in 1.0.0. An updated version of the class exists in the :class:`~langchain-ollama package and should be used instead. To use it run `pip install -U :class:`~langchain-ollama` and import as `from :class:`~langchain_ollama import OllamaEmbeddings``.\n",
      "  ollama_embedding = OllamaEmbeddings(model = \"mxbai-embed-large:latest\")\n"
     ]
    }
   ],
   "source": [
    "ollama_embedding = OllamaEmbeddings(model = \"mxbai-embed-large:latest\")\n",
    "\n",
    "store = InMemoryStore(\n",
    "    index={\"embed\": ollama_embedding}\n",
    ")"
   ]
  },
  {
   "cell_type": "code",
   "execution_count": 7,
   "metadata": {},
   "outputs": [],
   "source": [
    "# Template for formating an example to put in prompt\n",
    "template = \"\"\"Email Subject: {subject}\n",
    "Email From: {from_email}\n",
    "Email To: {to_email}\n",
    "Email Content: \n",
    "```\n",
    "{content}\n",
    "```\n",
    "> Triage Result: {result}\"\"\"\n",
    "\n",
    "# Format list of few shots\n",
    "def format_few_shot_examples(examples):\n",
    "    strs = [\"Here are some previous examples:\"]\n",
    "    for eg in examples:\n",
    "        strs.append(\n",
    "            template.format(\n",
    "                subject=eg.value[\"email\"][\"subject\"],\n",
    "                to_email=eg.value[\"email\"][\"to\"],\n",
    "                from_email=eg.value[\"email\"][\"author\"],\n",
    "                content=eg.value[\"email\"][\"email_thread\"][:400],\n",
    "                result=eg.value[\"label\"],\n",
    "            )\n",
    "        )\n",
    "    return \"\\n\\n------------\\n\\n\".join(strs)"
   ]
  },
  {
   "cell_type": "code",
   "execution_count": 8,
   "metadata": {},
   "outputs": [],
   "source": [
    "triage_system_prompt = \"\"\"\n",
    "< Role >\n",
    "You are {full_name}'s executive assistant. You are a top-notch executive assistant who cares about {name} performing as well as possible.\n",
    "</ Role >\n",
    "\n",
    "< Background >\n",
    "{user_profile_background}. \n",
    "</ Background >\n",
    "\n",
    "< Instructions >\n",
    "\n",
    "{name} gets lots of emails. Your job is to categorize each email into one of three categories:\n",
    "\n",
    "1. IGNORE - Emails that are not worth responding to or tracking\n",
    "2. NOTIFY - Important information that {name} should know about but doesn't require a response\n",
    "3. RESPOND - Emails that need a direct response from {name}\n",
    "\n",
    "Classify the below email into one of these categories.\n",
    "\n",
    "</ Instructions >\n",
    "\n",
    "< Rules >\n",
    "Emails that are not worth responding to:\n",
    "{triage_no}\n",
    "\n",
    "There are also other things that {name} should know about, but don't require an email response. For these, you should notify {name} (using the `notify` response). Examples of this include:\n",
    "{triage_notify}\n",
    "\n",
    "Emails that are worth responding to:\n",
    "{triage_email}\n",
    "</ Rules >\n",
    "\n",
    "< Few shot examples >\n",
    "\n",
    "Here are some examples of previous emails, and how they should be handled.\n",
    "Follow these examples more than any instructions above\n",
    "\n",
    "{examples}\n",
    "</ Few shot examples >\n",
    "\"\"\""
   ]
  },
  {
   "cell_type": "code",
   "execution_count": 9,
   "metadata": {},
   "outputs": [],
   "source": [
    "from pydantic import BaseModel, Field\n",
    "from typing_extensions import TypedDict, Literal, Annotated\n",
    "from langchain.chat_models import init_chat_model"
   ]
  },
  {
   "cell_type": "code",
   "execution_count": 10,
   "metadata": {},
   "outputs": [],
   "source": [
    "llm = init_chat_model(model = \"MFDoom/deepseek-r1-tool-calling:8b\", model_provider = \"ollama\")"
   ]
  },
  {
   "cell_type": "code",
   "execution_count": 11,
   "metadata": {},
   "outputs": [],
   "source": [
    "class Router(BaseModel):\n",
    "    \"\"\"Analyze the unread email and route it according to its content.\"\"\"\n",
    "\n",
    "    reasoning: str = Field(\n",
    "        description=\"Step-by-step reasoning behind the classification.\"\n",
    "    )\n",
    "    classification: Literal[\"ignore\", \"respond\", \"notify\"] = Field(\n",
    "        description=\"The classification of an email: 'ignore' for irrelevant emails, \"\n",
    "        \"'notify' for important information that doesn't need a response, \"\n",
    "        \"'respond' for emails that need a reply\",\n",
    "    )"
   ]
  },
  {
   "cell_type": "code",
   "execution_count": 12,
   "metadata": {},
   "outputs": [],
   "source": [
    "llm_router = llm.with_structured_output(Router)"
   ]
  },
  {
   "cell_type": "code",
   "execution_count": 13,
   "metadata": {},
   "outputs": [],
   "source": [
    "from prompts import triage_user_prompt"
   ]
  },
  {
   "cell_type": "code",
   "execution_count": 14,
   "metadata": {},
   "outputs": [],
   "source": [
    "from langgraph.graph import add_messages\n",
    "\n",
    "class State(TypedDict):\n",
    "    email_input: dict\n",
    "    messages: Annotated[list, add_messages]\n",
    "    "
   ]
  },
  {
   "cell_type": "markdown",
   "metadata": {},
   "source": [
    "##### Triage Router node"
   ]
  },
  {
   "cell_type": "code",
   "execution_count": 15,
   "metadata": {},
   "outputs": [],
   "source": [
    "from langgraph.graph import StateGraph, START, END\n",
    "from langgraph.types import Command\n",
    "from typing import Literal\n",
    "from IPython.display import Image, display"
   ]
  },
  {
   "cell_type": "markdown",
   "metadata": {},
   "source": [
    "##### Updated triage_router gets ignore, notify and respond rule from store"
   ]
  },
  {
   "cell_type": "code",
   "execution_count": 16,
   "metadata": {},
   "outputs": [],
   "source": [
    "def triage_router(state: State, config, store) -> Command[\n",
    "    Literal[\"response_agent\", \"__end__\"]\n",
    "]:\n",
    "    author = state['email_input']['author']\n",
    "    to = state['email_input']['to']\n",
    "    subject = state['email_input']['subject']\n",
    "    email_thread = state['email_input']['email_thread']\n",
    "    \n",
    "    namespace = (\n",
    "        'email_assistant',\n",
    "        config['configurable']['langgraph_user_id'],\n",
    "        'examples'\n",
    "    )\n",
    "    \n",
    "    examples = store.search(\n",
    "        namespace,\n",
    "        query = str({\"email\": state['email_input']})\n",
    "    )\n",
    "    examples = format_few_shot_examples(examples)\n",
    "    \n",
    "    langgraph_user_id = config['configurable']['langgraph_user_id']\n",
    "    namespace = (langgraph_user_id, )\n",
    "    \n",
    "    result = store.get(namespace, 'triage_ignore')\n",
    "    if result is None:\n",
    "        store.put(\n",
    "            namespace,\n",
    "            'triage_ignore',\n",
    "            {'prompt' : prompt_instructions['triage_rules']['ignore']}\n",
    "        )\n",
    "        ignore_prompt = prompt_instructions['triage_rules']['ignore']\n",
    "    else:\n",
    "        ignore_prompt = result.value['prompt']\n",
    "        \n",
    "    result = store.get(namespace, 'triage_notify')\n",
    "    if result is None:\n",
    "        store.put(\n",
    "            namespace,\n",
    "            'triage_notify',\n",
    "            {'prompt' : prompt_instructions['triage_rules']['notify']}\n",
    "        )\n",
    "        notify_prompt = prompt_instructions['triage_rules']['notify']\n",
    "    else:\n",
    "        notify_prompt = result.value['prompt']\n",
    "        \n",
    "    result = store.get(namespace, 'triage_respond')\n",
    "    if result is None:\n",
    "        store.put(\n",
    "            namespace,\n",
    "            'triage_respond',\n",
    "            {'prompt' : prompt_instructions['triage_rules']['respond']}\n",
    "        )\n",
    "        respond_prompt = prompt_instructions['triage_rules']['respond']\n",
    "    else:\n",
    "        respond_prompt = result.value['prompt']\n",
    "    \n",
    "    system_prompt = triage_system_prompt.format(\n",
    "        full_name=profile[\"full_name\"],\n",
    "        name=profile[\"name\"],\n",
    "        user_profile_background=profile[\"user_profile_background\"],\n",
    "        triage_no=ignore_prompt,\n",
    "        triage_notify=notify_prompt,\n",
    "        triage_email=respond_prompt,\n",
    "        examples=examples\n",
    "    )\n",
    "    user_prompt = triage_user_prompt.format(\n",
    "        author=author, \n",
    "        to=to, \n",
    "        subject=subject, \n",
    "        email_thread=email_thread\n",
    "    )\n",
    "    \n",
    "    result = llm_router.invoke(\n",
    "        [\n",
    "            {\"role\": \"system\", \"content\": system_prompt},\n",
    "            {\"role\": \"user\", \"content\": user_prompt},\n",
    "        ]\n",
    "    )\n",
    "    \n",
    "    if result.classification == \"respond\":\n",
    "        print(\"📧 Classification: RESPOND - This email requires a response\")\n",
    "        goto = \"response_agent\"\n",
    "        update = {\n",
    "            \"messages\": [\n",
    "                {\n",
    "                    \"role\": \"user\",\n",
    "                    \"content\": f\"Respond to the email {state['email_input']}\",\n",
    "                }\n",
    "            ]\n",
    "        }\n",
    "        \n",
    "    elif result.classification == \"ignore\":\n",
    "        print(\"🚫 Classification: IGNORE - This email can be safely ignored\")\n",
    "        update = None\n",
    "        goto = END\n",
    "        \n",
    "    elif result.classification == \"notify\":\n",
    "        # If real life, this would do something else\n",
    "        print(\"🔔 Classification: NOTIFY - This email contains important information\")\n",
    "        update = None\n",
    "        goto = END\n",
    "        \n",
    "    else:\n",
    "        raise ValueError(f\"Invalid classification: {result.classification}\")\n",
    "    \n",
    "    return Command(goto=goto, update=update)"
   ]
  },
  {
   "cell_type": "markdown",
   "metadata": {},
   "source": [
    "#### Build the rest of our agent"
   ]
  },
  {
   "cell_type": "code",
   "execution_count": 17,
   "metadata": {},
   "outputs": [],
   "source": [
    "from langchain_core.tools import tool"
   ]
  },
  {
   "cell_type": "code",
   "execution_count": 18,
   "metadata": {},
   "outputs": [],
   "source": [
    "@tool\n",
    "def write_email(to: str, subject: str, content: str) -> str:\n",
    "    \"\"\"Write and send an email.\"\"\"\n",
    "    # Placeholder response - in real app would send email\n",
    "    return f\"Email sent to {to} with subject '{subject}'\""
   ]
  },
  {
   "cell_type": "code",
   "execution_count": 19,
   "metadata": {},
   "outputs": [],
   "source": [
    "@tool\n",
    "def schedule_meeting(\n",
    "    attendees: list[str], \n",
    "    subject: str, \n",
    "    duration_minutes: int, \n",
    "    preferred_day: str\n",
    ") -> str:\n",
    "    \"\"\"Schedule a calendar meeting.\"\"\"\n",
    "    # Placeholder response - in real app would check calendar and schedule\n",
    "    return f\"Meeting '{subject}' scheduled for {preferred_day} with {len(attendees)} attendees\"\n"
   ]
  },
  {
   "cell_type": "code",
   "execution_count": 20,
   "metadata": {},
   "outputs": [],
   "source": [
    "@tool\n",
    "def check_calendar_availability(day: str) -> str:\n",
    "    \"\"\"Check calendar availability for a given day.\"\"\"\n",
    "    # Placeholder response - in real app would check actual calendar\n",
    "    return f\"Available times on {day}: 9:00 AM, 2:00 PM, 4:00 PM\""
   ]
  },
  {
   "cell_type": "code",
   "execution_count": 21,
   "metadata": {},
   "outputs": [],
   "source": [
    "from langmem import create_manage_memory_tool, create_search_memory_tool"
   ]
  },
  {
   "cell_type": "code",
   "execution_count": 22,
   "metadata": {},
   "outputs": [],
   "source": [
    "manage_memory_tool = create_manage_memory_tool(\n",
    "    namespace=(\n",
    "        \"email_assistant\",\n",
    "        \"{langgraph_user_id}\",\n",
    "        \"collection\"\n",
    "    )\n",
    ")\n",
    "\n",
    "search_memory_tool = create_search_memory_tool(\n",
    "    namespace=(\n",
    "        \"email_assistant\",\n",
    "        \"{langgraph_user_id}\",\n",
    "        \"collection\"\n",
    "    )\n",
    ")"
   ]
  },
  {
   "cell_type": "code",
   "execution_count": 23,
   "metadata": {},
   "outputs": [],
   "source": [
    "agent_system_prompt_memory = \"\"\"\n",
    "< Role >\n",
    "You are {full_name}'s executive assistant. You are a top-notch executive assistant who cares about {name} performing as well as possible.\n",
    "</ Role >\n",
    "\n",
    "< Tools >\n",
    "You have access to the following tools to help manage {name}'s communications and schedule:\n",
    "\n",
    "1. write_email(to, subject, content) - Send emails to specified recipients\n",
    "2. schedule_meeting(attendees, subject, duration_minutes, preferred_day) - Schedule calendar meetings\n",
    "3. check_calendar_availability(day) - Check available time slots for a given day\n",
    "4. manage_memory - Store any relevant information about contacts, actions, discussion, etc. in memory for future reference\n",
    "5. search_memory - Search for any relevant information that may have been stored in memory\n",
    "</ Tools >\n",
    "\n",
    "< Instructions >\n",
    "{instructions}\n",
    "</ Instructions >\n",
    "\"\"\""
   ]
  },
  {
   "cell_type": "markdown",
   "metadata": {},
   "source": [
    "##### Updated create_prompt gets prompt from store"
   ]
  },
  {
   "cell_type": "code",
   "execution_count": 24,
   "metadata": {},
   "outputs": [],
   "source": [
    "def create_prompt(state, config, store):\n",
    "    langgraph_user_id = config['configurable']['langgraph_user_id']\n",
    "    namespace = (langgraph_user_id, )\n",
    "    result = store.get(namespace, \"agent_instructions\")\n",
    "    if result is None:\n",
    "        store.put(\n",
    "            namespace, \n",
    "            \"agent_instructions\", \n",
    "            {\"prompt\": prompt_instructions[\"agent_instructions\"]}\n",
    "        )\n",
    "        prompt = prompt_instructions[\"agent_instructions\"]\n",
    "    else:\n",
    "        prompt = result.value['prompt']\n",
    "    \n",
    "    return [\n",
    "        {\n",
    "            \"role\": \"system\", \n",
    "            \"content\": agent_system_prompt_memory.format(\n",
    "                instructions=prompt, \n",
    "                **profile\n",
    "            )\n",
    "        }\n",
    "    ] + state['messages']"
   ]
  },
  {
   "cell_type": "markdown",
   "metadata": {},
   "source": [
    "##### Create an Email Agent"
   ]
  },
  {
   "cell_type": "code",
   "execution_count": 25,
   "metadata": {},
   "outputs": [],
   "source": [
    "from langgraph.prebuilt import create_react_agent"
   ]
  },
  {
   "cell_type": "code",
   "execution_count": 26,
   "metadata": {},
   "outputs": [],
   "source": [
    "tools= [\n",
    "    write_email, \n",
    "    schedule_meeting,\n",
    "    check_calendar_availability,\n",
    "    manage_memory_tool,\n",
    "    search_memory_tool\n",
    "]\n",
    "response_agent = create_react_agent(\n",
    "    \"openai:gpt-4o\",\n",
    "    tools=tools,\n",
    "    prompt=create_prompt,\n",
    "    # Use this to ensure the store is passed to the agent \n",
    "    store=store\n",
    ")"
   ]
  },
  {
   "cell_type": "code",
   "execution_count": 27,
   "metadata": {},
   "outputs": [],
   "source": [
    "email_agent = StateGraph(State)\n",
    "email_agent = email_agent.add_node(triage_router)\n",
    "email_agent = email_agent.add_node(\"response_agent\", response_agent)\n",
    "email_agent = email_agent.add_edge(START, \"triage_router\")\n",
    "email_agent = email_agent.compile(store=store)"
   ]
  },
  {
   "cell_type": "markdown",
   "metadata": {},
   "source": [
    "##### Setup Agent to update Long Term Memory in the background"
   ]
  },
  {
   "cell_type": "code",
   "execution_count": 28,
   "metadata": {},
   "outputs": [],
   "source": [
    "email_input = {\n",
    "    \"author\": \"Alice Jones <alice.jones@bar.com>\",\n",
    "    \"to\": \"John Doe <john.doe@company.com>\",\n",
    "    \"subject\": \"Quick question about API documentation\",\n",
    "    \"email_thread\": \"\"\"Hi John,\n",
    "\n",
    "Urgent issue - your service is down. Is there a reason why\"\"\",\n",
    "}"
   ]
  },
  {
   "cell_type": "code",
   "execution_count": 29,
   "metadata": {},
   "outputs": [],
   "source": [
    "config = {\"configurable\": {\"langgraph_user_id\": \"lance\"}}"
   ]
  },
  {
   "cell_type": "code",
   "execution_count": 30,
   "metadata": {},
   "outputs": [
    {
     "name": "stdout",
     "output_type": "stream",
     "text": [
      "📧 Classification: RESPOND - This email requires a response\n"
     ]
    }
   ],
   "source": [
    "response = email_agent.invoke(\n",
    "    {\"email_input\": email_input},\n",
    "    config=config\n",
    ")"
   ]
  },
  {
   "cell_type": "code",
   "execution_count": 31,
   "metadata": {},
   "outputs": [
    {
     "name": "stdout",
     "output_type": "stream",
     "text": [
      "================================\u001b[1m Human Message \u001b[0m=================================\n",
      "\n",
      "Respond to the email {'author': 'Alice Jones <alice.jones@bar.com>', 'to': 'John Doe <john.doe@company.com>', 'subject': 'Quick question about API documentation', 'email_thread': 'Hi John,\\n\\nUrgent issue - your service is down. Is there a reason why'}\n",
      "==================================\u001b[1m Ai Message \u001b[0m==================================\n",
      "Tool Calls:\n",
      "  write_email (call_Zbr3LBy3nAhA4HOwY2saD4dp)\n",
      " Call ID: call_Zbr3LBy3nAhA4HOwY2saD4dp\n",
      "  Args:\n",
      "    to: alice.jones@bar.com\n",
      "    subject: Re: Quick question about API documentation\n",
      "    content: Hi Alice,\n",
      "\n",
      "Thank you for reaching out, and I'm sorry to hear that there's an issue. I'll check with the technical team immediately and get back to you as soon as I have more information.\n",
      "\n",
      "Best regards,\n",
      "John Doe's Executive Assistant\n",
      "  manage_memory (call_ANXGBKgmXlJzAbRf5LGApKwL)\n",
      " Call ID: call_ANXGBKgmXlJzAbRf5LGApKwL\n",
      "  Args:\n",
      "    content: Alice Jones reported that John's service is down and it's an urgent issue. She contacted John via email.\n",
      "    action: create\n",
      "=================================\u001b[1m Tool Message \u001b[0m=================================\n",
      "Name: write_email\n",
      "\n",
      "Email sent to alice.jones@bar.com with subject 'Re: Quick question about API documentation'\n",
      "=================================\u001b[1m Tool Message \u001b[0m=================================\n",
      "Name: manage_memory\n",
      "\n",
      "created memory c63e5180-c583-4187-9c58-20995fc39ac9\n",
      "==================================\u001b[1m Ai Message \u001b[0m==================================\n",
      "\n",
      "I've responded to Alice Jones, letting her know we'll check with the technical team and get back to her as soon as possible. I've also recorded the issue in our memory for follow-up. If there's anything else you'd like me to do, just let me know!\n"
     ]
    }
   ],
   "source": [
    "for m in response[\"messages\"]:\n",
    "    m.pretty_print()"
   ]
  },
  {
   "cell_type": "code",
   "execution_count": 34,
   "metadata": {},
   "outputs": [
    {
     "data": {
      "text/plain": [
       "\"Use these tools when appropriate to help manage John's tasks efficiently.\""
      ]
     },
     "execution_count": 34,
     "metadata": {},
     "output_type": "execute_result"
    }
   ],
   "source": [
    "store.get((\"lance\",), \"agent_instructions\").value['prompt']"
   ]
  },
  {
   "cell_type": "code",
   "execution_count": 37,
   "metadata": {},
   "outputs": [
    {
     "data": {
      "text/plain": [
       "'Team member out sick, build system notifications, project status updates'"
      ]
     },
     "execution_count": 37,
     "metadata": {},
     "output_type": "execute_result"
    }
   ],
   "source": [
    "store.get((\"lance\",), \"triage_notify\").value['prompt']"
   ]
  },
  {
   "cell_type": "code",
   "execution_count": 35,
   "metadata": {},
   "outputs": [
    {
     "data": {
      "text/plain": [
       "'Direct questions from team members, meeting requests, critical bug reports'"
      ]
     },
     "execution_count": 35,
     "metadata": {},
     "output_type": "execute_result"
    }
   ],
   "source": [
    "store.get((\"lance\",), \"triage_respond\").value['prompt']"
   ]
  },
  {
   "cell_type": "code",
   "execution_count": 36,
   "metadata": {},
   "outputs": [
    {
     "data": {
      "text/plain": [
       "'Marketing newsletters, spam emails, mass company announcements'"
      ]
     },
     "execution_count": 36,
     "metadata": {},
     "output_type": "execute_result"
    }
   ],
   "source": [
    "store.get((\"lance\",), \"triage_ignore\").value['prompt']"
   ]
  },
  {
   "cell_type": "markdown",
   "metadata": {},
   "source": [
    "##### Use LLM to update instructions"
   ]
  },
  {
   "cell_type": "code",
   "execution_count": 38,
   "metadata": {},
   "outputs": [],
   "source": [
    "from langmem import create_multi_prompt_optimizer"
   ]
  },
  {
   "cell_type": "code",
   "execution_count": null,
   "metadata": {},
   "outputs": [],
   "source": [
    "conversations = [\n",
    "    (\n",
    "        response['messages'],\n",
    "        \"Always sign your emails `John Doe`\"\n",
    "    )\n",
    "]"
   ]
  },
  {
   "cell_type": "code",
   "execution_count": 41,
   "metadata": {},
   "outputs": [],
   "source": [
    "prompts = [\n",
    "    {\n",
    "        \"name\": \"main_agent\",\n",
    "        \"prompt\": store.get((\"lance\",), \"agent_instructions\").value['prompt'],\n",
    "        \"update_instructions\": \"keep the instructions short and to the point\",\n",
    "        \"when_to_update\": \"Update this prompt whenever there is feedback on how the agent should write emails or schedule events\"\n",
    "        \n",
    "    },\n",
    "    {\n",
    "        \"name\": \"triage-ignore\", \n",
    "        \"prompt\": store.get((\"lance\",), \"triage_ignore\").value['prompt'],\n",
    "        \"update_instructions\": \"keep the instructions short and to the point\",\n",
    "        \"when_to_update\": \"Update this prompt whenever there is feedback on which emails should be ignored\"\n",
    "\n",
    "    },\n",
    "    {\n",
    "        \"name\": \"triage-notify\", \n",
    "        \"prompt\": store.get((\"lance\",), \"triage_notify\").value['prompt'],\n",
    "        \"update_instructions\": \"keep the instructions short and to the point\",\n",
    "        \"when_to_update\": \"Update this prompt whenever there is feedback on which emails the user should be notified of\"\n",
    "\n",
    "    },\n",
    "    {\n",
    "        \"name\": \"triage-respond\", \n",
    "        \"prompt\": store.get((\"lance\",), \"triage_respond\").value['prompt'],\n",
    "        \"update_instructions\": \"keep the instructions short and to the point\",\n",
    "        \"when_to_update\": \"Update this prompt whenever there is feedback on which emails should be responded to\"\n",
    "\n",
    "    },\n",
    "]"
   ]
  },
  {
   "cell_type": "code",
   "execution_count": 42,
   "metadata": {},
   "outputs": [],
   "source": [
    "optimizer = create_multi_prompt_optimizer(\n",
    "    \"openai:gpt-4o\",\n",
    "    kind=\"prompt_memory\",\n",
    ")"
   ]
  },
  {
   "cell_type": "code",
   "execution_count": 44,
   "metadata": {},
   "outputs": [],
   "source": [
    "updated = optimizer.invoke(\n",
    "    {\"trajectories\": conversations, \"prompts\": prompts}\n",
    ")\n"
   ]
  },
  {
   "cell_type": "code",
   "execution_count": 48,
   "metadata": {},
   "outputs": [
    {
     "name": "stdout",
     "output_type": "stream",
     "text": [
      "Name   :  main_agent\n",
      "prompt :  Use these tools when appropriate to help manage John's tasks efficiently. Always sign emails with 'John Doe' to maintain consistency and professionalism in communication.\n",
      "--------------------------------------------------------\n",
      "\n",
      "Name   :  triage-ignore\n",
      "prompt :  Marketing newsletters, spam emails, mass company announcements\n",
      "--------------------------------------------------------\n",
      "\n",
      "Name   :  triage-notify\n",
      "prompt :  Team member out sick, build system notifications, project status updates\n",
      "--------------------------------------------------------\n",
      "\n",
      "Name   :  triage-respond\n",
      "prompt :  Direct questions from team members, meeting requests, critical bug reports\n",
      "--------------------------------------------------------\n",
      "\n"
     ]
    }
   ],
   "source": [
    "for item in updated:\n",
    "    print('Name   : ', item['name'])\n",
    "    print('prompt : ', item['prompt'])\n",
    "    print(\"--------------------------------------------------------\\n\")"
   ]
  },
  {
   "cell_type": "code",
   "execution_count": 49,
   "metadata": {},
   "outputs": [
    {
     "name": "stdout",
     "output_type": "stream",
     "text": [
      "[\n",
      "    {\n",
      "        \"name\": \"main_agent\",\n",
      "        \"prompt\": \"Use these tools when appropriate to help manage John's tasks efficiently. Always sign emails with 'John Doe' to maintain consistency and professionalism in communication.\",\n",
      "        \"update_instructions\": \"keep the instructions short and to the point\",\n",
      "        \"when_to_update\": \"Update this prompt whenever there is feedback on how the agent should write emails or schedule events\"\n",
      "    },\n",
      "    {\n",
      "        \"name\": \"triage-ignore\",\n",
      "        \"prompt\": \"Marketing newsletters, spam emails, mass company announcements\",\n",
      "        \"update_instructions\": \"keep the instructions short and to the point\",\n",
      "        \"when_to_update\": \"Update this prompt whenever there is feedback on which emails should be ignored\"\n",
      "    },\n",
      "    {\n",
      "        \"name\": \"triage-notify\",\n",
      "        \"prompt\": \"Team member out sick, build system notifications, project status updates\",\n",
      "        \"update_instructions\": \"keep the instructions short and to the point\",\n",
      "        \"when_to_update\": \"Update this prompt whenever there is feedback on which emails the user should be notified of\"\n",
      "    },\n",
      "    {\n",
      "        \"name\": \"triage-respond\",\n",
      "        \"prompt\": \"Direct questions from team members, meeting requests, critical bug reports\",\n",
      "        \"update_instructions\": \"keep the instructions short and to the point\",\n",
      "        \"when_to_update\": \"Update this prompt whenever there is feedback on which emails should be responded to\"\n",
      "    }\n",
      "]\n"
     ]
    }
   ],
   "source": [
    "#json dumps is a bit easier to read\n",
    "import json\n",
    "print(json.dumps(updated, indent=4))"
   ]
  },
  {
   "cell_type": "markdown",
   "metadata": {},
   "source": [
    "##### Update the prompts in store"
   ]
  },
  {
   "cell_type": "code",
   "execution_count": 51,
   "metadata": {},
   "outputs": [
    {
     "name": "stdout",
     "output_type": "stream",
     "text": [
      "updated main_agent\n"
     ]
    }
   ],
   "source": [
    "for i, updated_prompt in enumerate(updated):\n",
    "    old_prompt = prompts[i]\n",
    "    if updated_prompt['prompt'] != old_prompt['prompt']:\n",
    "        name = old_prompt['name']\n",
    "        print(f\"updated {name}\")\n",
    "        if name == \"main_agent\":\n",
    "            store.put(\n",
    "                (\"lance\",),\n",
    "                \"agent_instructions\",\n",
    "                {\"prompt\":updated_prompt['prompt']}\n",
    "            )\n",
    "        else:\n",
    "            #raise ValueError\n",
    "            print(f\"Encountered {name}, implement the remaining stores!\")"
   ]
  },
  {
   "cell_type": "code",
   "execution_count": 52,
   "metadata": {},
   "outputs": [
    {
     "data": {
      "text/plain": [
       "\"Use these tools when appropriate to help manage John's tasks efficiently. Always sign emails with 'John Doe' to maintain consistency and professionalism in communication.\""
      ]
     },
     "execution_count": 52,
     "metadata": {},
     "output_type": "execute_result"
    }
   ],
   "source": [
    "store.get((\"lance\",), \"agent_instructions\").value['prompt']"
   ]
  },
  {
   "cell_type": "code",
   "execution_count": 53,
   "metadata": {},
   "outputs": [
    {
     "name": "stdout",
     "output_type": "stream",
     "text": [
      "📧 Classification: RESPOND - This email requires a response\n"
     ]
    }
   ],
   "source": [
    "response = email_agent.invoke(\n",
    "    {\"email_input\": email_input}, \n",
    "    config=config\n",
    ")"
   ]
  },
  {
   "cell_type": "code",
   "execution_count": 54,
   "metadata": {},
   "outputs": [
    {
     "name": "stdout",
     "output_type": "stream",
     "text": [
      "📧 Classification: RESPOND - This email requires a response\n"
     ]
    }
   ],
   "source": [
    "response = email_agent.invoke(\n",
    "    {\"email_input\": email_input}, \n",
    "    config=config\n",
    ")"
   ]
  },
  {
   "cell_type": "code",
   "execution_count": 55,
   "metadata": {},
   "outputs": [],
   "source": [
    "email_input = {\n",
    "    \"author\": \"Alice Jones <alice.jones@bar.com>\",\n",
    "    \"to\": \"John Doe <john.doe@company.com>\",\n",
    "    \"subject\": \"Quick question about API documentation\",\n",
    "    \"email_thread\": \"\"\"Hi John,\n",
    "\n",
    "Urgent issue - your service is down. Is there a reason why\"\"\",\n",
    "}"
   ]
  },
  {
   "cell_type": "code",
   "execution_count": 56,
   "metadata": {},
   "outputs": [
    {
     "name": "stdout",
     "output_type": "stream",
     "text": [
      "📧 Classification: RESPOND - This email requires a response\n"
     ]
    }
   ],
   "source": [
    "response = email_agent.invoke(\n",
    "    {\"email_input\": email_input},\n",
    "    config=config\n",
    ")"
   ]
  },
  {
   "cell_type": "code",
   "execution_count": 63,
   "metadata": {},
   "outputs": [
    {
     "name": "stdout",
     "output_type": "stream",
     "text": [
      "================================\u001b[1m Human Message \u001b[0m=================================\n",
      "\n",
      "Respond to the email {'author': 'Alice Jones <alice.jones@bar.com>', 'to': 'John Doe <john.doe@company.com>', 'subject': 'Quick question about API documentation', 'email_thread': 'Hi John,\\n\\nUrgent issue - your service is down. Is there a reason why'}\n",
      "==================================\u001b[1m Ai Message \u001b[0m==================================\n",
      "Tool Calls:\n",
      "  write_email (call_0DAlD9yLs4ZM2yfsDyAfltVA)\n",
      " Call ID: call_0DAlD9yLs4ZM2yfsDyAfltVA\n",
      "  Args:\n",
      "    to: alice.jones@bar.com\n",
      "    subject: Re: Quick question about API documentation\n",
      "    content: Hi Alice,\n",
      "\n",
      "Thank you for reaching out regarding this urgent issue. I apologize for the service disruption. We're currently investigating the cause and working to resolve this as quickly as possible. \n",
      "\n",
      "I'll keep you updated with any developments. Please let me know if there's anything specific you need in the meantime.\n",
      "\n",
      "Best regards,\n",
      "\n",
      "John Doe\n",
      "=================================\u001b[1m Tool Message \u001b[0m=================================\n",
      "Name: write_email\n",
      "\n",
      "Email sent to alice.jones@bar.com with subject 'Re: Quick question about API documentation'\n",
      "==================================\u001b[1m Ai Message \u001b[0m==================================\n",
      "\n",
      "I've responded to Alice's urgent query about the service disruption, assuring her that the issue is being investigated and will be resolved as soon as possible.\n"
     ]
    }
   ],
   "source": [
    "for m in response['messages']:\n",
    "    m.pretty_print()"
   ]
  },
  {
   "cell_type": "code",
   "execution_count": null,
   "metadata": {},
   "outputs": [],
   "source": [
    "# Set to ingore the emails from Alice Jones\n",
    "conversations = [\n",
    "    (\n",
    "        response['messages'],\n",
    "        \"Ignore any emails from Alice Jones\"\n",
    "    )\n",
    "]"
   ]
  },
  {
   "cell_type": "code",
   "execution_count": 58,
   "metadata": {},
   "outputs": [],
   "source": [
    "prompts = [\n",
    "    {\n",
    "        \"name\": \"main_agent\",\n",
    "        \"prompt\": store.get((\"lance\",), \"agent_instructions\").value['prompt'],\n",
    "        \"update_instructions\": \"keep the instructions short and to the point\",\n",
    "        \"when_to_update\": \"Update this prompt whenever there is feedback on how the agent should write emails or schedule events\"\n",
    "        \n",
    "    },\n",
    "    {\n",
    "        \"name\": \"triage-ignore\", \n",
    "        \"prompt\": store.get((\"lance\",), \"triage_ignore\").value['prompt'],\n",
    "        \"update_instructions\": \"keep the instructions short and to the point\",\n",
    "        \"when_to_update\": \"Update this prompt whenever there is feedback on which emails should be ignored\"\n",
    "\n",
    "    },\n",
    "    {\n",
    "        \"name\": \"triage-notify\", \n",
    "        \"prompt\": store.get((\"lance\",), \"triage_notify\").value['prompt'],\n",
    "        \"update_instructions\": \"keep the instructions short and to the point\",\n",
    "        \"when_to_update\": \"Update this prompt whenever there is feedback on which emails the user should be notified of\"\n",
    "\n",
    "    },\n",
    "    {\n",
    "        \"name\": \"triage-respond\", \n",
    "        \"prompt\": store.get((\"lance\",), \"triage_respond\").value['prompt'],\n",
    "        \"update_instructions\": \"keep the instructions short and to the point\",\n",
    "        \"when_to_update\": \"Update this prompt whenever there is feedback on which emails should be responded to\"\n",
    "\n",
    "    },\n",
    "]"
   ]
  },
  {
   "cell_type": "code",
   "execution_count": 59,
   "metadata": {},
   "outputs": [],
   "source": [
    "updated = optimizer.invoke(\n",
    "    {\"trajectories\": conversations, \"prompts\": prompts}\n",
    ")"
   ]
  },
  {
   "cell_type": "code",
   "execution_count": 60,
   "metadata": {},
   "outputs": [
    {
     "name": "stdout",
     "output_type": "stream",
     "text": [
      "updated triage-ignore\n"
     ]
    }
   ],
   "source": [
    "for i, updated_prompt in enumerate(updated):\n",
    "    old_prompt = prompts[i]\n",
    "    if updated_prompt['prompt'] != old_prompt['prompt']:\n",
    "        name = old_prompt['name']\n",
    "        print(f\"updated {name}\")\n",
    "        if name == \"main_agent\":\n",
    "            store.put(\n",
    "                (\"lance\",),\n",
    "                \"agent_instructions\",\n",
    "                {\"prompt\":updated_prompt['prompt']}\n",
    "            )\n",
    "        if name == \"triage-ignore\":\n",
    "            store.put(\n",
    "                (\"lance\",),\n",
    "                \"triage_ignore\",\n",
    "                {\"prompt\":updated_prompt['prompt']}\n",
    "            )\n",
    "        else:\n",
    "            #raise ValueError\n",
    "            print(f\"Encountered {name}, implement the remaining stores!\")"
   ]
  },
  {
   "cell_type": "code",
   "execution_count": 62,
   "metadata": {},
   "outputs": [
    {
     "name": "stdout",
     "output_type": "stream",
     "text": [
      "<updated_prompt>\n",
      "- Ignore emails from Alice Jones.\n",
      "- Focus on responding to emails related to urgent issues or service disruptions.\n",
      "- Prioritize emails from known contacts within the company.\n",
      "- Deprioritize marketing newsletters, spam emails, and mass company announcements.\n",
      "</updated_prompt>\n"
     ]
    }
   ],
   "source": [
    "print(store.get((\"lance\",), \"triage_ignore\").value['prompt'])"
   ]
  },
  {
   "cell_type": "code",
   "execution_count": 64,
   "metadata": {},
   "outputs": [
    {
     "name": "stdout",
     "output_type": "stream",
     "text": [
      "📧 Classification: RESPOND - This email requires a response\n"
     ]
    }
   ],
   "source": [
    "response = email_agent.invoke(\n",
    "    {\"email_input\": email_input},\n",
    "    config=config\n",
    ")"
   ]
  }
 ],
 "metadata": {
  "kernelspec": {
   "display_name": "Python 3",
   "language": "python",
   "name": "python3"
  },
  "language_info": {
   "codemirror_mode": {
    "name": "ipython",
    "version": 3
   },
   "file_extension": ".py",
   "mimetype": "text/x-python",
   "name": "python",
   "nbconvert_exporter": "python",
   "pygments_lexer": "ipython3",
   "version": "3.11.9"
  }
 },
 "nbformat": 4,
 "nbformat_minor": 2
}
